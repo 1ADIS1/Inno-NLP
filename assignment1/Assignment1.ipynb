{
  "cells": [
    {
      "cell_type": "markdown",
      "metadata": {
        "id": "RKboZnAdgrRM"
      },
      "source": [
        "# [NLP] Assignment 1: Tokenization\n",
        "\n",
        "In this assignment, you need to tokenize the text of the Twitter(X) users posts(tweets). The assignment consists of two tasks. When you finish all the tasks, create a GitHub repository for this assignment (you can use this repo later for the other assignments) and submit this notebook in the repository. Leave `requirements.txt` file if your code requires additional installations. Submit the link to the repository in Moodle.\n",
        "\n",
        "The [data](https://drive.google.com/file/d/15x_wPAflvYQ2Xh38iNQGrqUIWLj5l5Nw/view?usp=share_link) contains 5 files whereby each contains 44 tweets. Each tweet is separated by a newline."
      ]
    },
    {
      "cell_type": "markdown",
      "metadata": {
        "id": "aLDjjAvemUP_"
      },
      "source": [
        "## Task 1. Tokenize some tweets manually (20 points)\n",
        "\n",
        "As a first task you need to tokenize first 15 tweets from `file2` by hand. This will allow you to understand the problem from a linguistic point of view. The guidelines for tweet tokenization are as follows:\n",
        "\n",
        "- Each smiley is a separate token\n",
        "- Each hashtag is an individual token. Each user reference is an individual token\n",
        "- If a word has spaces between them then it is converted to a single token\n",
        "- All punctuations are individual tokens. This includes double-quotes and single quotes also\n",
        "- A URL is a single token\n",
        "\n",
        "Example of output\n",
        "\n",
        "    Input tweet\n",
        "    @xfranman Old age has made N A T O!\n",
        "\n",
        "    Tokenized tweet (separated by comma)\n",
        "    @xfranman , Old , age , has , made , NATO , !"
      ]
    },
    {
      "cell_type": "markdown",
      "metadata": {
        "id": "7KKKwTidnzUw"
      },
      "source": [
        "\n",
        "    1. Input tweet\n",
        "    Camping in Maine for the weekend. Hey Dad, Mama Loves YOU: http://www.mamapalooza.com\n",
        "    \n",
        "    1. Tokenized tweet\n",
        "    Camping , in , Maine , for , the , weekend , . , Hey , Dad , , , Mama , Loves , YOU , : ,http://www.mamapalooza.com\n",
        "\n",
        "    2. Input tweet\n",
        "    Its american tradition bitch\n",
        "    \n",
        "    2. Tokenized tweet\n",
        "    Its , american, tradition , bitch\n",
        "\n",
        "    3. Input tweet\n",
        "    @ThroughTheVoid They love it! The only pleasure they get in life. I actually do that. I'm sure I hear a tiny squeak... Then louder ones\n",
        "\n",
        "    3. Tokenized tweet\n",
        "    @ThroughTheVoid , They , love , it , ! , The , only , pleasure , they , get , in , life , . , I , actually , do , that , . , I'm , sure , I , hear , a , tiny , squeak , ... , Then , louder , ones\n",
        "\n",
        "    4. Input tweet\n",
        "    \" RT @latti: @AbsoHilare stop tweeting in church! Lol <--- \"\"I tweet because I'm happy, I tweet because I'm free\"\" LOL!\"\n",
        "\n",
        "    4. Tokenized tweet\n",
        "    \" , RT , @latti, : , @AbsoHilare , stop , tweeting , in , church , ! , Lol , <--- , \"\" , I , tweet , because , I'm , happy , , , I , tweet , because , I'm , free, \"\" , LOL , !, \",\n",
        "\n",
        "    5. Input tweet\n",
        "    Samsung Mini S2 portable HDD graced with colors that perfectly match your tacky beach gear: Sammy's done it aga.. http://tinyurl.com/lb5p6m\n",
        "\n",
        "    5. Tokenized tweet\n",
        "    Samsung , Mini , S2 , portable , HDD , graced , with , colors , that , perfectly , match , your , tacky , beach , gear, : , Sammy's , done , it , aga, .. , http://tinyurl.com/lb5p6m\n",
        "\n",
        "    6. Input tweet\n",
        "    @dialloc congrats on finding your way over. it may be slow going at first. hang in there. it's kinda cool when u get up to speed.\n",
        "\n",
        "    6. Tokenized tweet\n",
        "    @dialloc , congrats , on , finding , your , way , over , . , it , may , be , slow , going , at , first , . , hang , in , there , . , it's , kinda , cool , when , u , get , up , to , speed , .\n",
        "\n",
        "    7. Input tweet\n",
        "    iPhone activation delays continue, Apple offers $30 http://twt.gs/l3Ki\n",
        "\n",
        "    7. Tokenized tweet\n",
        "    iPhone , activation , delays , continue , , , Apple , offers , $30 , http://twt.gs/l3Ki\n",
        "\n",
        "    8. Input tweet\n",
        "    RT @GoogleAtWork Gmail maximum attachment size now 25MB http://bit.ly/62mjw Nice!!!\n",
        "\n",
        "    8. Tokenized tweet\n",
        "    RT , @GoogleAtWork , Gmail , maximum , attachment , size , now , 25MB , http://bit.ly/62mjw , Nice , !!!\n",
        "\n",
        "    9. Input tweet\n",
        "    RT @acfou The Ads Won Awards for Crispin; But Did Nothing for Client BurgerKing's Sales/Marketshare - Big Surprise - http://ping.fm/vw8TI\n",
        "\n",
        "    9. Tokenized tweet\n",
        "    RT , @acfou , The , Ads , Won , Awards , for , Crispin , ; , But , Did , Nothing , for , Client , BurgerKing's , Sales/Marketshare , - , Big , Surprise , - , http://ping.fm/vw8TI\n",
        "\n",
        "    10. Input tweet\n",
        "    Hey doll! Great I missed True Blood yday boo lol Rt @FrankBanuat78 @jhillstephens Hello Sunshine how are u today? :-)\n",
        "\n",
        "    10. Tokenized tweet\n",
        "    Hey , doll , ! , Great , I , missed , True , Blood , yday , boo , lol , Rt , @FrankBanuat78 , @jhillstephens , Hello , Sunshine , how , are , u , today , ? , :-)\n",
        "\n",
        "    11. Input tweet\n",
        "    Australian artist Pogo made these free songs primarily from sampled audio from Alice In Wonderland. http://www.last.fm/music/Pogo/Wonderland\n",
        "\n",
        "    11. Tokenized tweet\n",
        "    Australian , artist , Pogo , made , these , free , songs , primarily , from , sampled , audio , from , Alice , In , Wonderland , . , http://www.last.fm/music/Pogo/Wonderland\n",
        "\n",
        "    12. Input tweet\n",
        "    @mppritchard they wanted to sell all the preorders & then sell all of the ones they had in stock to those that just walked in. Can't do both\n",
        "\n",
        "    12. Tokenized tweet\n",
        "    @mppritchard , they , wanted , to , sell , all , the , preorders , & , then , sell , all , of , the , ones , they , had , in , stock , to , those , that , just , walked , in , . , Can't , do , both\n",
        "\n",
        "    13. Input tweet\n",
        "    Incoming: Frightened Rabbit, Sept. 22 (Tucson): If Fat Cat Records is going to send three great bands from Scot.. http://tinyurl.com/nz6xcv\n",
        "\n",
        "    13. Tokenized tweet\n",
        "    Incoming , : , Frightened , Rabbit , , , Sept. , 22 , ( , Tucson , ): , If , Fat , Cat , Records , is , going , to , send , three , great , bands , from , Scot.. , \n",
        "    http://tinyurl.com/nz6xcv\n",
        "\n",
        "    14. Input tweet\n",
        "    Hey @ginoandfran please greet philip! (GinoandFran live > http://ustre.am/2YyQ)\n",
        "\n",
        "    14. Tokenized tweet\n",
        "    Hey , @ginoandfran , please , greet , philip , ! ,( , GinoandFran , live , > , http://ustre.am/2YyQ , )\n",
        "\n",
        "    15. Input tweet\n",
        "    Ik weet niet wie er achter de T-Mobile iPhone Twitter zit maar ik vind het niet echt 'corporate' taalgebruik... Best vreemd eigenlijk\n",
        "\n",
        "    15. Tokenized tweet\n",
        "    Ik , weet , niet , wie , er , achter , de , T-Mobile , iPhone , Twitter , zit , maar , ik , vind , het , niet , echt , 'corporate' , taalgebruik , ... , Best , vreemd , eigenlijk\n",
        "    "
      ]
    },
    {
      "cell_type": "markdown",
      "metadata": {
        "id": "-2J2AD2nmUhi"
      },
      "source": [
        "## Task 2. Implement [Byte-Pair Encoding(BPE)](https://arxiv.org/pdf/1508.07909.pdf) Tokenizer (80 points)\n",
        "\n",
        "### Task 2.1. Implementation (60 points)\n",
        "\n",
        "Implement the tokenizer as the BPETokenizer class:\n",
        "* Implement `train` method that learns merges and builds the vocabulary of the specified `vocab_size` (25 points).\n",
        "* Implement `tokenize` method that should tokenize the text according to the learnt merges (25 points).\n",
        "\n",
        "Your code should have docstrings and comments (10 points)."
      ]
    },
    {
      "cell_type": "markdown",
      "metadata": {},
      "source": [
        "### Material that I've referenced: https://huggingface.co/learn/nlp-course/chapter6/5"
      ]
    },
    {
      "cell_type": "code",
      "execution_count": 3,
      "metadata": {},
      "outputs": [],
      "source": [
        "from typing import List\n",
        "from collections import defaultdict\n",
        "\n",
        "\n",
        "class BPETokenizer:\n",
        "    \"\"\"\n",
        "    Byte-Pair Encoding (BPE) is a method for training on text (corpus) to learn the merges in the vocabulary for tokenization of the text.\n",
        "    \"\"\"\n",
        "\n",
        "    def __init__(self, vocab_size: int) -> None:\n",
        "        \"\"\"\n",
        "        Initialise corpus vocabulary from the given size.\n",
        "        \"\"\"\n",
        "\n",
        "        self.vocab_size = vocab_size\n",
        "        self.vocab = set()\n",
        "        self.merges = {}\n",
        "\n",
        "        # Frequency pairs are sets of split words with number of appearences in corpus,\n",
        "        # which are used for merging words in vocabulary.\n",
        "        # I use here defaultdict because it returns default value of 0 for every new key.\n",
        "        self.frequency_words = defaultdict(int)\n",
        "\n",
        "    def compute_pair_freqs(self, splits):\n",
        "        \"\"\"\n",
        "        This function calculates frequencies in frequency_words dictionary of each pair of symbols in splits.\n",
        "\n",
        "        split: Dictionary - words, where key is a word, and value is this word's characters.\n",
        "        \"\"\"\n",
        "\n",
        "        pair_freqs = defaultdict(int)\n",
        "        for word, freq in self.frequency_words.items():\n",
        "            split = splits[word]\n",
        "            if len(split) == 1:\n",
        "                continue\n",
        "            for i in range(len(split) - 1):\n",
        "                pair = (split[i], split[i + 1])\n",
        "                pair_freqs[pair] += freq\n",
        "        return pair_freqs\n",
        "    \n",
        "    def merge_pair(self, a, b, splits):\n",
        "        \"\"\"\n",
        "        This function merges given pair of symbols in splits dictionary.\n",
        "        \"\"\"\n",
        "\n",
        "        for word in self.frequency_words:\n",
        "            split = splits[word]\n",
        "            if len(split) == 1:\n",
        "                continue\n",
        "\n",
        "            i = 0\n",
        "            while i < len(split) - 1:\n",
        "                if split[i] == a and split[i + 1] == b:\n",
        "                    split = split[:i] + [a + b] + split[i + 2 :]\n",
        "                else:\n",
        "                    i += 1\n",
        "            splits[word] = split\n",
        "        return splits\n",
        "\n",
        "\n",
        "    def train(self, corpus: List[str]) -> None:\n",
        "        \"\"\"\n",
        "        Builds an initial vocabulary and adds learned merges to it until the vocab_size is reached.\n",
        "        If the algorithm cannot reach the given vocabulary size, it will stop.\n",
        "        \"\"\"\n",
        "\n",
        "        for word in corpus:\n",
        "            self.frequency_words[word] += 1\n",
        "\n",
        "        # Comprise the base vocabulary and split the words into chars\n",
        "        splits = {}\n",
        "        for unique_word in self.frequency_words.keys():\n",
        "            splits[unique_word] = [c for c in unique_word]\n",
        "            for letter in unique_word:\n",
        "                self.vocab.add(letter)\n",
        "                \n",
        "        # Add new merges to the vocabulary, until given vocabulary size is reached.\n",
        "        last_vocab_size = 0\n",
        "        while len(self.vocab) < self.vocab_size:\n",
        "            if last_vocab_size == len(self.vocab):\n",
        "                print(\"Algorithm couldn't achieve given vocabulary size. Try to make the value smaller.\")\n",
        "                break\n",
        "\n",
        "            last_vocab_size = len(self.vocab)\n",
        "\n",
        "            # Compute all pair frequencies.\n",
        "            pair_freqs = self.compute_pair_freqs(splits)\n",
        "\n",
        "            # Find most frequent pair of symbols.\n",
        "            best_pair = (\"\", \"\")\n",
        "            max_freq = None\n",
        "            for pair, freq in pair_freqs.items():\n",
        "                if max_freq is None or max_freq < freq:\n",
        "                    best_pair = pair\n",
        "                    max_freq = freq\n",
        "            splits = self.merge_pair(*best_pair, splits)\n",
        "\n",
        "            # Add merge\n",
        "            self.merges[best_pair] = best_pair[0] + best_pair[1]\n",
        "            self.vocab.add(best_pair[0] + best_pair[1])\n",
        "\n",
        "    def tokenize(self, text: str) -> List[str]:\n",
        "        \"\"\"\n",
        "        Tokenizes given text with learned merges from train function.\n",
        "        \"\"\"\n",
        "\n",
        "        tokenization_result = text.split()\n",
        "\n",
        "        splits = [[l for l in word] for word in tokenization_result]\n",
        "        for pair, merge in self.merges.items():\n",
        "            for idx, split in enumerate(splits):\n",
        "                i = 0\n",
        "                while i < len(split) - 1:\n",
        "                    if split[i] == pair[0] and split[i + 1] == pair[1]:\n",
        "                        split = split[:i] + [merge] + split[i + 2 :]\n",
        "                    else:\n",
        "                        i += 1\n",
        "                splits[idx] = split\n",
        "\n",
        "        return sum(splits, [])"
      ]
    },
    {
      "cell_type": "code",
      "execution_count": 4,
      "metadata": {},
      "outputs": [
        {
          "name": "stdout",
          "output_type": "stream",
          "text": [
            "['hug', 'hug', 'hug', 'hug', 'hug', 'hug', 'hug', 'hug', 'hug', 'hug', 'pug', 'pug', 'pug', 'pug', 'pug', 'pun', 'pun', 'pun', 'pun', 'pun', 'pun', 'pun', 'pun', 'pun', 'pun', 'pun', 'pun', 'bun', 'bun', 'bun', 'bun', 'hugs', 'hugs', 'hugs', 'hugs', 'hugs']\n"
          ]
        }
      ],
      "source": [
        "test_corpus = [\"hug\"] * 10\n",
        "test_corpus.extend([\"pug\"] * 5)\n",
        "test_corpus.extend([\"pun\"] * 12)\n",
        "test_corpus.extend([\"bun\"] * 4)\n",
        "test_corpus.extend([\"hugs\"] * 5)\n",
        "\n",
        "print(test_corpus)"
      ]
    },
    {
      "cell_type": "code",
      "execution_count": 5,
      "metadata": {},
      "outputs": [
        {
          "name": "stdout",
          "output_type": "stream",
          "text": [
            "Algorithm couldn't achieve given vocabulary size. Try to make the value smaller.\n"
          ]
        }
      ],
      "source": [
        "test_tokenizer = BPETokenizer(vocab_size=50)\n",
        "test_tokenizer.train(test_corpus)"
      ]
    },
    {
      "cell_type": "code",
      "execution_count": 6,
      "metadata": {},
      "outputs": [
        {
          "data": {
            "text/plain": [
              "['hug', 'y', 'pug', 'g', 'y', 'm', 'ug', 'g', 'y', 'm', 'o', 'o', '.']"
            ]
          },
          "execution_count": 6,
          "metadata": {},
          "output_type": "execute_result"
        }
      ],
      "source": [
        "test_tokenizer.tokenize(\"hugy puggy muggy moo.\")"
      ]
    },
    {
      "cell_type": "markdown",
      "metadata": {},
      "source": [
        "### Task 2.2. Analysis on Tweets Dataset (10 points)\n",
        "\n",
        "Train the BPE tokenizer on the tweets dataset. Try to tokenize the tweets with the tokenizer of different `vocab_size`. For example, train the BPE tokenizer with `vocab_size` of [base_vocab_size, 250, 500, 750, 1000]. Plot the dependency of the average length of the tokenized tweet by `vocab_size` to analyze how `vocab_size` affects the length of the tokenized tweet on average. Tell what `vocab_size` is preferrable and why."
      ]
    },
    {
      "cell_type": "code",
      "execution_count": 7,
      "metadata": {},
      "outputs": [],
      "source": [
        "import pandas as pd\n",
        "\n",
        "\n",
        "vocab_sizes = [0, 250, 500, 750, 1000]\n",
        "average_lengths = {}\n",
        "\n",
        "for vocab_size in vocab_sizes:\n",
        "    tokenizer = BPETokenizer(vocab_size)\n",
        "\n",
        "    full_text = \"\"\n",
        "    for i in range(1, 6):\n",
        "        with open(f\"../assignment1/data/file{i}\", \"r\") as f:\n",
        "            full_text += f.read()\n",
        "\n",
        "    tokenizer.train(full_text.split(\" \"))\n",
        "    \n",
        "    sentences = full_text.split('\\n')\n",
        "    # Tokenize each tweet.\n",
        "    sentence_av_length = 0\n",
        "    sentences_num = len(sentences)\n",
        "    for sentence in sentences:\n",
        "        sentence_tokens = tokenizer.tokenize(sentence)\n",
        "        if not sentence_tokens:\n",
        "            sentences_num -= 1\n",
        "            continue\n",
        "        sentence_av_length += len(sentence_tokens)\n",
        "\n",
        "    sentence_av_length /= sentences_num\n",
        "    \n",
        "    average_lengths[vocab_size] = sentence_av_length\n",
        "\n",
        "# I am converting here to dataframe for plotting the graph easily later.\n",
        "df_avg_lengths = pd.DataFrame.from_records([(k, v) for k, v in average_lengths.items()], columns=['Vocab Size', 'Avg Length'])"
      ]
    },
    {
      "cell_type": "code",
      "execution_count": 8,
      "metadata": {},
      "outputs": [
        {
          "data": {
            "image/png": "[encoded data removed]",
            "text/plain": [
              "<Figure size 1000x600 with 1 Axes>"
            ]
          },
          "metadata": {},
          "output_type": "display_data"
        }
      ],
      "source": [
        "import matplotlib.pyplot as plt\n",
        "import seaborn as sns\n",
        "\n",
        "\n",
        "sns.set_theme(style=\"whitegrid\")\n",
        "plt.figure(figsize=(10,  6))\n",
        "sns.barplot(x='Vocab Size', y='Avg Length', data=df_avg_lengths)\n",
        "plt.title('Dependency of Average Number of Tokens by Vocab Size')\n",
        "plt.xlabel('Vocab Size')\n",
        "plt.ylabel('Average Tokens Number')\n",
        "plt.show()  "
      ]
    },
    {
      "cell_type": "markdown",
      "metadata": {},
      "source": [
        "### Answer\n",
        "In this example, the most preferrable vocabulary size should be 500. We see a the drastic difference of decrease of average length, but after that it is not that significant. So to save computational resources, I would go for \"golden middle\", which in this case - 500."
      ]
    },
    {
      "cell_type": "markdown",
      "metadata": {},
      "source": [
        "### Task 2.3. Analysis on Dataset of Different Language (10 points)\n",
        "\n",
        "Find a small dataset of texts in a language other than English. The dataset size should be not greater than several megabytes.\n",
        "\n",
        "Train the BPE tokenizer on the dataset that you found. Try to tokenize the sentences from this dataset with the tokenizer of different `vocab_size`. Plot the dependency of the average length of the tokenized sentence by `vocab_size` to analyze how `vocab_size` affects the length of the tokenized sentence on average.\n",
        "\n",
        "Tell how how the average length of the tokenized sentence differs from the average length of the tokenized tweet. Explain why. "
      ]
    },
    {
      "cell_type": "code",
      "execution_count": 9,
      "metadata": {},
      "outputs": [
        {
          "name": "stdout",
          "output_type": "stream",
          "text": [
            "Vocab size: 50 is done.\n",
            "Vocab size: 150 is done.\n",
            "Vocab size: 300 is done.\n",
            "Vocab size: 550 is done.\n",
            "Vocab size: 950 is done.\n",
            "Vocab size: 1200 is done.\n"
          ]
        }
      ],
      "source": [
        "vocab_sizes = [50, 150, 300, 550, 950, 1200]\n",
        "average_lengths = {}\n",
        "\n",
        "for vocab_size in vocab_sizes:\n",
        "    tokenizer = BPETokenizer(vocab_size)\n",
        "\n",
        "    full_text = \"\"\n",
        "    with open(f\"../assignment1/data/Tolstoy_WarAndPeace.txt\", \"r\") as f:\n",
        "        full_text += f.read()\n",
        "\n",
        "    tokenizer.train(full_text.split(\" \"))\n",
        "    \n",
        "    sentences = full_text.split('.')\n",
        "    # Tokenize each sentence.\n",
        "    sentence_av_length = 0\n",
        "    sentences_num = len(sentences)\n",
        "    for sentence in sentences:\n",
        "        sentence_tokens = tokenizer.tokenize(sentence)\n",
        "        if not sentence_tokens:\n",
        "            sentences_num -= 1\n",
        "            continue\n",
        "        sentence_av_length += len(sentence_tokens)\n",
        "\n",
        "    sentence_av_length /= sentences_num\n",
        "    \n",
        "    average_lengths[vocab_size] = sentence_av_length\n",
        "\n",
        "    print(f\"Vocab size: {vocab_size} is done.\")\n",
        "\n",
        "# I am converting here to dataframe for plotting the graph easily later.\n",
        "df_avg_lengths = pd.DataFrame.from_records([(k, v) for k, v in average_lengths.items()], columns=['Vocab Size', 'Avg Length'])"
      ]
    },
    {
      "cell_type": "code",
      "execution_count": 10,
      "metadata": {},
      "outputs": [
        {
          "data": {
            "image/png": "[encoded data removed]",
            "text/plain": [
              "<Figure size 1000x600 with 1 Axes>"
            ]
          },
          "metadata": {},
          "output_type": "display_data"
        }
      ],
      "source": [
        "sns.set_theme(style=\"whitegrid\")\n",
        "plt.figure(figsize=(10,  6))\n",
        "sns.barplot(x='Vocab Size', y='Avg Length', data=df_avg_lengths)\n",
        "plt.title('Dependency of Average Number of Tokens by Vocab Size')\n",
        "plt.xlabel('Vocab Size')\n",
        "plt.ylabel('Average Tokens Number')\n",
        "plt.show()"
      ]
    },
    {
      "cell_type": "markdown",
      "metadata": {},
      "source": [
        "### In this example, I have tokenized the War and Peace by Lev Tolstoy. As you can see, the graphs are almost indistinguishable. So the golden rule still applies here."
      ]
    },
    {
      "cell_type": "code",
      "execution_count": null,
      "metadata": {},
      "outputs": [],
      "source": []
    }
  ],
  "metadata": {
    "colab": {
      "provenance": [],
      "toc_visible": true
    },
    "kernelspec": {
      "display_name": "Python 3",
      "name": "python3"
    },
    "language_info": {
      "codemirror_mode": {
        "name": "ipython",
        "version": 3
      },
      "file_extension": ".py",
      "mimetype": "text/x-python",
      "name": "python",
      "nbconvert_exporter": "python",
      "pygments_lexer": "ipython3",
      "version": "3.11.2"
    }
  },
  "nbformat": 4,
  "nbformat_minor": 0
}
